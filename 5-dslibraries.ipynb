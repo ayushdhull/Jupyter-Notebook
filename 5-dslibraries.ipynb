{
 "cells": [
  {
   "cell_type": "markdown",
   "id": "78023969-8301-49b1-9354-520156f44c9e",
   "metadata": {},
   "source": [
    "Some of the commonly used libraries used by Data Scientists include:"
   ]
  },
  {
   "cell_type": "markdown",
   "id": "55a37d9d-e504-4f89-b32c-6beb90d06862",
   "metadata": {},
   "source": [
    "\n",
    "   1. TensorFlow.\n",
    "   2. NumPy.\n",
    "   3. SciPy.\n",
    "   4. Pandas.\n",
    "   5. Matplotlib.\n",
    "   6. Keras.\n",
    "   7. SciKit-Learn.\n",
    "   8. PyTorch.\n",
    "   9. Scrapy.\n",
    "   10. BeautifulSoup.\n",
    "   11. LightGBM.\n",
    "   12. ELI5.\n",
    "   13. Theano.\n",
    "   14. NuPIC.\n",
    "   15. Ramp.\n",
    "   16. Pipenv.\n",
    "   17. Bob.\n",
    "   18. PyBrain.\n",
    "   19. Caffe2.\n",
    "   20. Chainer.\n"
   ]
  },
  {
   "cell_type": "code",
   "execution_count": null,
   "id": "701b3dc3-e8d7-42d1-aa7b-a85a46946985",
   "metadata": {},
   "outputs": [],
   "source": []
  }
 ],
 "metadata": {
  "kernelspec": {
   "display_name": "Python",
   "language": "python",
   "name": "conda-env-python-py"
  },
  "language_info": {
   "codemirror_mode": {
    "name": "ipython",
    "version": 3
   },
   "file_extension": ".py",
   "mimetype": "text/x-python",
   "name": "python",
   "nbconvert_exporter": "python",
   "pygments_lexer": "ipython3",
   "version": "3.7.12"
  }
 },
 "nbformat": 4,
 "nbformat_minor": 5
}
