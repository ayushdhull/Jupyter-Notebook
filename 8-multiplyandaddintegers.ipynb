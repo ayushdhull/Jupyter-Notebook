{
 "cells": [
  {
   "cell_type": "markdown",
   "id": "c0d55ef4-5040-40e6-a8f2-dcd9c787628f",
   "metadata": {},
   "source": [
    "This a simple arithmetic expression to mutiply then add integers"
   ]
  },
  {
   "cell_type": "code",
   "execution_count": 3,
   "id": "9623af7f-0b1b-4ccd-ada1-9582ba76f542",
   "metadata": {
    "tags": []
   },
   "outputs": [
    {
     "data": {
      "text/plain": [
       "11"
      ]
     },
     "execution_count": 3,
     "metadata": {},
     "output_type": "execute_result"
    }
   ],
   "source": [
    "(3*2)+5\n",
    "# Result: 11"
   ]
  },
  {
   "cell_type": "code",
   "execution_count": null,
   "id": "ddb626c4-ac4c-470f-bbdb-aa0b7d0eb566",
   "metadata": {},
   "outputs": [],
   "source": []
  }
 ],
 "metadata": {
  "kernelspec": {
   "display_name": "Python",
   "language": "python",
   "name": "conda-env-python-py"
  },
  "language_info": {
   "codemirror_mode": {
    "name": "ipython",
    "version": 3
   },
   "file_extension": ".py",
   "mimetype": "text/x-python",
   "name": "python",
   "nbconvert_exporter": "python",
   "pygments_lexer": "ipython3",
   "version": "3.7.12"
  }
 },
 "nbformat": 4,
 "nbformat_minor": 5
}
