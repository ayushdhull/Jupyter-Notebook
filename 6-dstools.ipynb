{
 "cells": [
  {
   "cell_type": "markdown",
   "id": "c33d9605-ad72-449f-b975-1309231e9e44",
   "metadata": {},
   "source": [
    "Data Science Tools:"
   ]
  },
  {
   "cell_type": "markdown",
   "id": "b1be3dbf-2873-48f0-a536-dea2038ec1b1",
   "metadata": {},
   "source": [
    "# Data Science Tools"
   ]
  },
  {
   "cell_type": "markdown",
   "id": "5391a5bd-d5fc-40b9-a57b-7e2af7ca2dde",
   "metadata": {},
   "source": [
    "SAS. It is one of those data science tools which are specifically designed for statistical operation \t\t\n"
   ]
  },
  {
   "cell_type": "markdown",
   "id": "826d00ee-d396-4686-9095-cbd564271091",
   "metadata": {},
   "source": [
    "Apache Spark"
   ]
  },
  {
   "cell_type": "markdown",
   "id": "3dc39f7b-48a1-4f8e-8992-a6faa8c219c5",
   "metadata": {},
   "source": [
    "BigML"
   ]
  }
 ],
 "metadata": {
  "kernelspec": {
   "display_name": "Python",
   "language": "python",
   "name": "conda-env-python-py"
  },
  "language_info": {
   "codemirror_mode": {
    "name": "ipython",
    "version": 3
   },
   "file_extension": ".py",
   "mimetype": "text/x-python",
   "name": "python",
   "nbconvert_exporter": "python",
   "pygments_lexer": "ipython3",
   "version": "3.7.12"
  }
 },
 "nbformat": 4,
 "nbformat_minor": 5
}
