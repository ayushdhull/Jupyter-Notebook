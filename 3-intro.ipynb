{
 "cells": [
  {
   "cell_type": "markdown",
   "id": "046bd5be-c0cc-4b38-b985-c6011c58afa5",
   "metadata": {},
   "source": [
    "In This notebook ,Data Science Tools And Ecosystem are summarized."
   ]
  },
  {
   "cell_type": "markdown",
   "id": "e180f51f-1365-4aeb-94eb-3744100dcecb",
   "metadata": {},
   "source": [
    "# Objectives:\n"
   ]
  },
  {
   "cell_type": "markdown",
   "id": "6b6e2a08-9de0-4ac4-90b0-cfc28d2f19b3",
   "metadata": {
    "tags": []
   },
   "source": [
    "- List popular language that Data scientists use.\n",
    "- List Commonly used libraries used by Data Scientists.\n",
    "- Comment on Data science tools."
   ]
  },
  {
   "cell_type": "code",
   "execution_count": null,
   "id": "71de01c9-2106-41dd-88e4-bfe21c3629dd",
   "metadata": {},
   "outputs": [],
   "source": []
  }
 ],
 "metadata": {
  "kernelspec": {
   "display_name": "Python",
   "language": "python",
   "name": "conda-env-python-py"
  },
  "language_info": {
   "codemirror_mode": {
    "name": "ipython",
    "version": 3
   },
   "file_extension": ".py",
   "mimetype": "text/x-python",
   "name": "python",
   "nbconvert_exporter": "python",
   "pygments_lexer": "ipython3",
   "version": "3.7.12"
  }
 },
 "nbformat": 4,
 "nbformat_minor": 5
}
