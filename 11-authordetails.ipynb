{
 "cells": [
  {
   "cell_type": "markdown",
   "id": "95c21d12-121f-4a39-acf4-51150c333fc5",
   "metadata": {},
   "source": [
    "# Author:"
   ]
  },
  {
   "cell_type": "markdown",
   "id": "b18ed532-6349-40f8-88bc-d1dbfeca1ce1",
   "metadata": {},
   "source": [
    "Germano Costa "
   ]
  },
  {
   "cell_type": "code",
   "execution_count": null,
   "id": "0580e5f7-3486-4f2a-b0f7-b16a6157be00",
   "metadata": {},
   "outputs": [],
   "source": []
  }
 ],
 "metadata": {
  "kernelspec": {
   "display_name": "Python",
   "language": "python",
   "name": "conda-env-python-py"
  },
  "language_info": {
   "codemirror_mode": {
    "name": "ipython",
    "version": 3
   },
   "file_extension": ".py",
   "mimetype": "text/x-python",
   "name": "python",
   "nbconvert_exporter": "python",
   "pygments_lexer": "ipython3",
   "version": "3.7.12"
  }
 },
 "nbformat": 4,
 "nbformat_minor": 5
}
