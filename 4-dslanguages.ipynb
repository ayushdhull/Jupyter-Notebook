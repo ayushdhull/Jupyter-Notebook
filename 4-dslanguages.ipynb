{
 "cells": [
  {
   "cell_type": "markdown",
   "id": "f20768e7-18d9-456c-9717-1d51129fb117",
   "metadata": {},
   "source": [
    "Some of the popular languages that Data Scientists use are:"
   ]
  },
  {
   "cell_type": "markdown",
   "id": "d8148198-1f2e-415e-9390-c0c911d8460c",
   "metadata": {},
   "source": [
    "\n",
    "   1. Python.\n",
    "   2. R.\n",
    "   3. SQL.\n",
    "   4. Java.\n",
    "   5. Julia.\n",
    "   6. Scala.\n",
    "   7. C/C++.\n",
    "   8. JavaScript.\n"
   ]
  },
  {
   "cell_type": "code",
   "execution_count": null,
   "id": "a0d83967-3bb9-47f9-97b4-99705b76dbbb",
   "metadata": {},
   "outputs": [],
   "source": []
  }
 ],
 "metadata": {
  "kernelspec": {
   "display_name": "Python",
   "language": "python",
   "name": "conda-env-python-py"
  },
  "language_info": {
   "codemirror_mode": {
    "name": "ipython",
    "version": 3
   },
   "file_extension": ".py",
   "mimetype": "text/x-python",
   "name": "python",
   "nbconvert_exporter": "python",
   "pygments_lexer": "ipython3",
   "version": "3.7.12"
  }
 },
 "nbformat": 4,
 "nbformat_minor": 5
}
