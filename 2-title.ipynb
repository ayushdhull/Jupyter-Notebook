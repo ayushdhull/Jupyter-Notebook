{
 "cells": [
  {
   "cell_type": "markdown",
   "id": "3c534324-787f-43f5-a2c2-c60eef2aacc7",
   "metadata": {},
   "source": [
    "Create Markdown cell\n"
   ]
  },
  {
   "cell_type": "markdown",
   "id": "9b365a82-d826-4896-b14c-26677114cb7e",
   "metadata": {},
   "source": [
    "Create Markdown cell is title "
   ]
  },
  {
   "cell_type": "code",
   "execution_count": null,
   "id": "5bdad77d-bcd1-40fc-a4aa-80cce2992642",
   "metadata": {},
   "outputs": [],
   "source": []
  }
 ],
 "metadata": {
  "kernelspec": {
   "display_name": "Python",
   "language": "python",
   "name": "conda-env-python-py"
  },
  "language_info": {
   "codemirror_mode": {
    "name": "ipython",
    "version": 3
   },
   "file_extension": ".py",
   "mimetype": "text/x-python",
   "name": "python",
   "nbconvert_exporter": "python",
   "pygments_lexer": "ipython3",
   "version": "3.7.12"
  }
 },
 "nbformat": 4,
 "nbformat_minor": 5
}
