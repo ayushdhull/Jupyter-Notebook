{
 "cells": [
  {
   "cell_type": "markdown",
   "id": "69bb57b7-6ae9-438e-b4a8-79fae8177c9c",
   "metadata": {},
   "source": [
    "*Objectives:*"
   ]
  },
  {
   "cell_type": "markdown",
   "id": "6e8c2ed0-e890-403d-9c01-85b97e14fd68",
   "metadata": {},
   "source": [
    "- List popular languages that Data Scientists use.\n",
    "-  List commonly used libraries used by Data Scientists.\n",
    "- Comment on Data Science tools.\n"
   ]
  },
  {
   "cell_type": "code",
   "execution_count": null,
   "id": "36111eb4-4758-4aef-8a37-940fa4290c46",
   "metadata": {},
   "outputs": [],
   "source": []
  },
  {
   "cell_type": "code",
   "execution_count": null,
   "id": "b525ef63-cede-4362-9668-da1e43ef431c",
   "metadata": {},
   "outputs": [],
   "source": []
  }
 ],
 "metadata": {
  "kernelspec": {
   "display_name": "Python",
   "language": "python",
   "name": "conda-env-python-py"
  },
  "language_info": {
   "codemirror_mode": {
    "name": "ipython",
    "version": 3
   },
   "file_extension": ".py",
   "mimetype": "text/x-python",
   "name": "python",
   "nbconvert_exporter": "python",
   "pygments_lexer": "ipython3",
   "version": "3.7.12"
  }
 },
 "nbformat": 4,
 "nbformat_minor": 5
}
